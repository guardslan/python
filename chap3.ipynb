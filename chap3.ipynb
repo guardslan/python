{
 "cells": [
  {
   "cell_type": "code",
   "execution_count": 1,
   "metadata": {},
   "outputs": [
    {
     "name": "stdout",
     "output_type": "stream",
     "text": [
      "b是比較大的數\n"
     ]
    }
   ],
   "source": [
    "#if else\n",
    "a = 3\n",
    "b = 4\n",
    "if a <=b:\n",
    "    print(\"b是比較大的數\")\n",
    "else:\n",
    "    print(\"a是比較大的數\")"
   ]
  },
  {
   "cell_type": "code",
   "execution_count": 3,
   "metadata": {},
   "outputs": [
    {
     "name": "stdout",
     "output_type": "stream",
     "text": [
      "55\n"
     ]
    }
   ],
   "source": [
    "#for\n",
    "sum =0\n",
    "for count in range(1,11,1):  # 1 2 3 4 5 6 7 8 9 10 沒有11, step:1\n",
    "    sum = sum + count  #sum+=count\n",
    "print(sum)"
   ]
  },
  {
   "cell_type": "code",
   "execution_count": 4,
   "metadata": {},
   "outputs": [
    {
     "name": "stdout",
     "output_type": "stream",
     "text": [
      "f\n",
      "o\n",
      "r\n",
      " \n",
      "s\n",
      "t\n",
      "a\n",
      "t\n",
      "e\n",
      "m\n",
      "e\n",
      "n\n",
      "t\n",
      "end list\n"
     ]
    }
   ],
   "source": [
    "mylist = \"for statement\"\n",
    "for word in mylist:\n",
    "    print(word)\n",
    "else:\n",
    "    print(\"end list\")"
   ]
  },
  {
   "cell_type": "code",
   "execution_count": 7,
   "metadata": {},
   "outputs": [
    {
     "name": "stdout",
     "output_type": "stream",
     "text": [
      "雞有 23 隻,兔子有 12 隻\n"
     ]
    }
   ],
   "source": [
    "#雞兔同籠 假設雞兔共有35頭 94隻腳 請問幾隻雞 幾隻兔\n",
    "for chicken in range (0,35):\n",
    "    rabbit=35-chicken\n",
    "    if(2*chicken+4*rabbit)==94:\n",
    "        print(\"雞有\",chicken,\"隻,兔子有\",rabbit,\"隻\")\n",
    "        break\n",
    "else:\n",
    "    print(\"無解\")"
   ]
  },
  {
   "cell_type": "code",
   "execution_count": 11,
   "metadata": {},
   "outputs": [
    {
     "name": "stdout",
     "output_type": "stream",
     "text": [
      "1+2+3+...+10 = 55\n"
     ]
    }
   ],
   "source": [
    "#while\n",
    "sum=0\n",
    "count=1\n",
    "while count <=10:\n",
    "    sum=sum+count\n",
    "    count=count+1\n",
    "print(\"1+2+3+...+10 =\",sum)\n",
    "    "
   ]
  },
  {
   "cell_type": "code",
   "execution_count": 2,
   "metadata": {},
   "outputs": [
    {
     "name": "stdout",
     "output_type": "stream",
     "text": [
      "70 年以後,存款加倍,為 20067 元\n"
     ]
    }
   ],
   "source": [
    "x=10000\n",
    "year=0\n",
    "while x <= 20000:\n",
    "    year +=1\n",
    "    x=x*1.01\n",
    "print(str(year),\"年以後,存款加倍,為\",int(x),\"元\")"
   ]
  },
  {
   "cell_type": "code",
   "execution_count": 5,
   "metadata": {},
   "outputs": [
    {
     "name": "stdout",
     "output_type": "stream",
     "text": [
      "請輸入1~10之間的數字 : 1\n",
      "猜錯了\n",
      "請輸入1~10之間的數字 : 2\n",
      "猜錯了\n",
      "請輸入1~10之間的數字 : 3\n",
      "猜錯了\n",
      "請輸入1~10之間的數字 : 45\n",
      "猜錯了\n",
      "請輸入1~10之間的數字 : 5\n",
      "猜錯了\n",
      "請輸入1~10之間的數字 : 6\n",
      "你猜對了,數字是: 6\n"
     ]
    }
   ],
   "source": [
    "import random\n",
    "number = random.randint(1,10)\n",
    "while True:\n",
    "    guess=int(input(\"請輸入1~10之間的數字 : \"))\n",
    "    if guess == number:\n",
    "        print(\"你猜對了,數字是:\",number)\n",
    "        break\n",
    "    else:\n",
    "        print(\"猜錯了\")"
   ]
  },
  {
   "cell_type": "code",
   "execution_count": null,
   "metadata": {},
   "outputs": [],
   "source": []
  }
 ],
 "metadata": {
  "kernelspec": {
   "display_name": "Python 3",
   "language": "python",
   "name": "python3"
  },
  "language_info": {
   "codemirror_mode": {
    "name": "ipython",
    "version": 3
   },
   "file_extension": ".py",
   "mimetype": "text/x-python",
   "name": "python",
   "nbconvert_exporter": "python",
   "pygments_lexer": "ipython3",
   "version": "3.7.4"
  }
 },
 "nbformat": 4,
 "nbformat_minor": 2
}
